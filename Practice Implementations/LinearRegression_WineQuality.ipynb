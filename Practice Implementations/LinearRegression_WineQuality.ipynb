{
 "cells": [
  {
   "cell_type": "markdown",
   "metadata": {},
   "source": [
    "# Linear Regression Practice "
   ]
  },
  {
   "cell_type": "markdown",
   "metadata": {},
   "source": [
    "This noteook will implement gradient descent using multivariate linear regression to predict wine quality. It will provide a full walkthrough of how I implemented the linear regression model, followed by an analysis of the performance of the model with proposed changes to make the model better.  "
   ]
  },
  {
   "cell_type": "markdown",
   "metadata": {},
   "source": [
    "## Part 1: Implementing the model"
   ]
  },
  {
   "cell_type": "code",
   "execution_count": 1,
   "metadata": {},
   "outputs": [],
   "source": [
    "# Scientific and vector computation for python\n",
    "import numpy as np\n",
    "\n",
    "# Plotting library\n",
    "from tabulate import tabulate\n",
    "from matplotlib import pyplot\n",
    "from mpl_toolkits.mplot3d import Axes3D  # needed to plot 3-D surfaces\n",
    "\n",
    "# tells matplotlib to embed plots within the notebook\n",
    "%matplotlib inline"
   ]
  },
  {
   "cell_type": "markdown",
   "metadata": {},
   "source": [
    "### Loading the Data and perform feature scaling"
   ]
  },
  {
   "cell_type": "markdown",
   "metadata": {},
   "source": [
    "First, we load the data and use feature normalization to ensure gradient descent converges much more quickly"
   ]
  },
  {
   "cell_type": "code",
   "execution_count": 2,
   "metadata": {},
   "outputs": [
    {
     "name": "stdout",
     "output_type": "stream",
     "text": [
      "  X[0]    X[1]    X[2]    X[3]    X[4]    X[5]    X[6]    X[7]    X[8]    X[9]    X[10]    quality (1-10)\n",
      "------  ------  ------  ------  ------  ------  ------  ------  ------  ------  -------  ----------------\n",
      "   7.4    0.7     0        1.9   0.076      11      34  0.9978    3.51    0.56      9.4                 5\n",
      "   7.8    0.88    0        2.6   0.098      25      67  0.9968    3.2     0.68      9.8                 5\n",
      "   7.8    0.76    0.04     2.3   0.092      15      54  0.997     3.26    0.65      9.8                 5\n",
      "  11.2    0.28    0.56     1.9   0.075      17      60  0.998     3.16    0.58      9.8                 6\n",
      "   7.4    0.7     0        1.9   0.076      11      34  0.9978    3.51    0.56      9.4                 5\n",
      "   7.4    0.66    0        1.8   0.075      13      40  0.9978    3.51    0.56      9.4                 5\n",
      "   7.9    0.6     0.06     1.6   0.069      15      59  0.9964    3.3     0.46      9.4                 5\n",
      "   7.3    0.65    0        1.2   0.065      15      21  0.9946    3.39    0.47     10                   7\n",
      "   7.8    0.58    0.02     2     0.073       9      18  0.9968    3.36    0.57      9.5                 7\n",
      "   7.5    0.5     0.36     6.1   0.071      17     102  0.9978    3.35    0.8      10.5                 5\n"
     ]
    }
   ],
   "source": [
    "# Load data\n",
    "data = np.loadtxt(open(\"data/wineQuality.csv\", \"rb\"), delimiter=\",\", skiprows=1)\n",
    "\n",
    "# Create feature matrix and output variables\n",
    "# Here, X denotes the feature matrix and y is the output\n",
    "X = data[:, :-1]\n",
    "y = data[:, -1]\n",
    "m = y.size\n",
    "\n",
    "# print out some data points\n",
    "sample = data[:10, :]\n",
    "table = [column for column in sample]\n",
    "print(tabulate(table, headers=[\"X[0]\", \"X[1]\", \"X[2]\", \"X[3]\", \"X[4]\", \"X[5]\", \"X[6]\", \"X[7]\", \"X[8]\", \"X[9]\", \"X[10]\", \"quality (1-10)\" ]))\n"
   ]
  },
  {
   "cell_type": "code",
   "execution_count": 3,
   "metadata": {},
   "outputs": [],
   "source": [
    "# This function returns a normalized version of the feature matrix\n",
    "# Parameters: X = feature matrix\n",
    "def featureNormalization(X):\n",
    "    # create mu and sigma vector\n",
    "    # mu[x] denotes the mean value of column x\n",
    "    # sigma[x] denotes the standard deviation of column x\n",
    "    X_normalized = X.copy()\n",
    "    mu = np.zeros(X.shape[1])\n",
    "    sigma = np.zeros(X.shape[1])\n",
    "    \n",
    "    # set the values of mu and sigma\n",
    "    mu = np.mean(X, axis = 0)\n",
    "    sigma = np.std(X, axis = 0)\n",
    "    X_normalized = (X - mu) / sigma\n",
    "    \n",
    "    # return normalized feature matrix, mu and sigma vector\n",
    "    return X_normalized, mu, sigma"
   ]
  },
  {
   "cell_type": "code",
   "execution_count": 4,
   "metadata": {},
   "outputs": [
    {
     "name": "stdout",
     "output_type": "stream",
     "text": [
      "Computed mean vector:  [ 8.31963727  0.52782051  0.27097561  2.5388055   0.08746654 15.87492183\n",
      " 46.46779237  0.99674668  3.3111132   0.65814884 10.42298311]\n",
      "\n",
      "Computed sigma vector:  [1.74055180e+00 1.79003704e-01 1.94740214e-01 1.40948711e+00\n",
      " 4.70505826e-02 1.04568856e+01 3.28850367e+01 1.88674370e-03\n",
      " 1.54338181e-01 1.69453967e-01 1.06533430e+00]\n"
     ]
    }
   ],
   "source": [
    "# call featureNormalization on the data\n",
    "X_normalized, mu, sigma = featureNormalization(X)\n",
    "\n",
    "print(\"Computed mean vector: \", mu)\n",
    "print(\"\\nComputed sigma vector: \", sigma)"
   ]
  },
  {
   "cell_type": "markdown",
   "metadata": {},
   "source": [
    "Finally, before we use the feature matrix to compute the cost function, we must add the intercept term"
   ]
  },
  {
   "cell_type": "code",
   "execution_count": 5,
   "metadata": {},
   "outputs": [],
   "source": [
    "# Add intercept term to X\n",
    "X = np.concatenate([np.ones((m, 1)), X_normalized], axis=1)"
   ]
  },
  {
   "cell_type": "markdown",
   "metadata": {},
   "source": [
    "### Cost Function"
   ]
  },
  {
   "cell_type": "markdown",
   "metadata": {},
   "source": [
    "Next, we must implement the cost function for our multivariate linear regression model. This function computes the average of all the results of our linear hypothesis with inputs from our feature matrix compared to the actual output of our dataset. "
   ]
  },
  {
   "cell_type": "code",
   "execution_count": 6,
   "metadata": {},
   "outputs": [],
   "source": [
    "# Cost function for multivariate linear regression\n",
    "# Parameters: X = feature matrix, y = output, theta = parameter vector\n",
    "# Returns: cost = the computed cost of fitting data points using theta, the parameter vector\n",
    "def costFunction(X, y, theta):\n",
    "    \n",
    "    # number of training examples\n",
    "    n = y.shape[0]\n",
    "    cost = 0\n",
    "    # hypothesis\n",
    "    h = X.dot(theta)\n",
    "    \n",
    "    # vectorized equation for cost function\n",
    "    cost = (1/(2 * n)) * np.dot((h - y).T, (h - y))\n",
    "    \n",
    "    return cost"
   ]
  },
  {
   "cell_type": "markdown",
   "metadata": {},
   "source": [
    "### Gradient Descent Algorithm"
   ]
  },
  {
   "cell_type": "markdown",
   "metadata": {},
   "source": [
    "Using the cost function defined above, we now implement the gradient descent algorithm to train the model to find the optimal values for our parameter vector."
   ]
  },
  {
   "cell_type": "code",
   "execution_count": 7,
   "metadata": {},
   "outputs": [],
   "source": [
    "# Gradient Descent algorithm\n",
    "# Parameters: X = feature matrix, y = output, theta = feature vector, alpha = learning rate, iterations = number of iterations\n",
    "# Returns: theta: The learned parameter vector\n",
    "#          costVector: a list containign the cost function after each iteration\n",
    "def gradientDescent(X, y, theta, alpha, iterations):\n",
    "    \n",
    "    # copy the theta vector to be updated by gradient descent\n",
    "    theta = theta.copy()\n",
    "    m = y.shape[0]\n",
    "    costVector = []\n",
    " \n",
    "    for i in range(iterations):\n",
    "        theta = theta - (alpha / m) * np.dot((np.dot(X, theta) - y), X)\n",
    "        costVector.append(costFunction(X, y, theta))\n",
    "    \n",
    "    return theta, costVector"
   ]
  },
  {
   "cell_type": "markdown",
   "metadata": {},
   "source": [
    "To make sure that the algorithm is implemented correctly, we can plot a graph of the learning rate over the number of iterations."
   ]
  },
  {
   "cell_type": "code",
   "execution_count": 41,
   "metadata": {},
   "outputs": [
    {
     "data": {
      "text/plain": [
       "Text(0, 0.5, 'Cost')"
      ]
     },
     "execution_count": 41,
     "metadata": {},
     "output_type": "execute_result"
    },
    {
     "data": {
      "image/png": "[encoded data removed]",
      "text/plain": [
       "<Figure size 432x288 with 1 Axes>"
      ]
     },
     "metadata": {
      "needs_background": "light"
     },
     "output_type": "display_data"
    }
   ],
   "source": [
    "# Learning rate and number of iterations\n",
    "alpha = 0.005\n",
    "iterations = 1500\n",
    "\n",
    "theta = np.zeros(X[0].shape)\n",
    "theta, costVector = gradientDescent(X, y, theta, alpha, iterations)\n",
    "\n",
    "# plot the gradient descent convergence\n",
    "pyplot.plot(np.arange(len(costVector)), costVector, lw=2)\n",
    "pyplot.xlabel('Number of iterations')\n",
    "pyplot.ylabel('Cost')"
   ]
  },
  {
   "cell_type": "code",
   "execution_count": 46,
   "metadata": {},
   "outputs": [
    {
     "name": "stdout",
     "output_type": "stream",
     "text": [
      "With alpha = 0.005 and iterations = 1500, the trained parameters are:\n",
      "\n",
      " [ 5.63296341  0.06208009 -0.18391945 -0.01786227  0.0320261  -0.09068463\n",
      "  0.04331262 -0.10730923 -0.06264955 -0.04634955  0.15953812  0.27393323]\n",
      "\n",
      "The predicted wine value for the following features:\n",
      "\n",
      "fixed acidity = 5.7\n",
      "volatile acidity = 0.29\n",
      "citric acid content = 0.42\n",
      "residual sugar = 2.8\n",
      "chlorides = 0.14\n",
      "free sulfur dioxide = 11.0\n",
      "total sulfur dioxide = 42.0\n",
      "density = 0.9942\n",
      "pH = 3.39\n",
      "sulphates = 0.71\n",
      "alcohol % = 10.3\n",
      "\n",
      "wine quality = 5.757194394118167\n"
     ]
    }
   ],
   "source": [
    "#output the trained parameter vector\n",
    "print('With alpha = {} and iterations = {}, the trained parameters are:\\n\\n {}' .format(alpha, iterations, theta))\n",
    "\n",
    "#Test with random feature values\n",
    "X_test = np.array([5.7, 0.29, 0.42, 2.8, 0.140, 11, 42, 0.9942, 3.39, 0.71, 10.3])\n",
    "print(\"\\nThe predicted wine value for the following features:\\n\\n\"\n",
    "      \"fixed acidity = {}\\n\"\n",
    "      \"volatile acidity = {}\\n\"\n",
    "      \"citric acid content = {}\\n\" \n",
    "      \"residual sugar = {}\\n\"\n",
    "      \"chlorides = {}\\n\" \n",
    "      \"free sulfur dioxide = {}\\n\"\n",
    "      \"total sulfur dioxide = {}\\n\" \n",
    "      \"density = {}\\n\" \n",
    "      \"pH = {}\\n\" \n",
    "      \"sulphates = {}\\n\" \n",
    "      \"alcohol % = {}\\n\"\n",
    "      .format(X_test[0], X_test[1], X_test[2], X_test[3], X_test[4], \n",
    "              X_test[5], X_test[6], X_test[7], X_test[8], X_test[9], X_test[10]))\n",
    "\n",
    "#add intercept term\n",
    "X_test = np.concatenate(([1], X_test))\n",
    "predict = np.dot(X_test1, theta)\n",
    "print(\"wine quality =\", predict)"
   ]
  },
  {
   "cell_type": "markdown",
   "metadata": {},
   "source": []
  },
  {
   "cell_type": "markdown",
   "metadata": {},
   "source": []
  }
 ],
 "metadata": {
  "kernelspec": {
   "display_name": "Python 3",
   "language": "python",
   "name": "python3"
  },
  "language_info": {
   "codemirror_mode": {
    "name": "ipython",
    "version": 3
   },
   "file_extension": ".py",
   "mimetype": "text/x-python",
   "name": "python",
   "nbconvert_exporter": "python",
   "pygments_lexer": "ipython3",
   "version": "3.7.3"
  }
 },
 "nbformat": 4,
 "nbformat_minor": 2
}
