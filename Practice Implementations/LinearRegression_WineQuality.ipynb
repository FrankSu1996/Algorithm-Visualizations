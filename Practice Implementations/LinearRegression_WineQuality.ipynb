{
 "cells": [
  {
   "cell_type": "markdown",
   "metadata": {},
   "source": [
    "# Linear Regression Practice "
   ]
  },
  {
   "cell_type": "markdown",
   "metadata": {},
   "source": [
    "This noteook will implement gradient descent using multivariate linear regression to predict wine quality. It will provide a full walkthrough of how I implemented the linear regression model, followed by an analysis of the performance of the model. "
   ]
  },
  {
   "cell_type": "code",
   "execution_count": 1,
   "metadata": {},
   "outputs": [],
   "source": [
    "# Scientific and vector computation for python\n",
    "import numpy as np\n",
    "\n",
    "# Plotting library\n",
    "from tabulate import tabulate\n",
    "from matplotlib import pyplot\n",
    "from mpl_toolkits.mplot3d import Axes3D  # needed to plot 3-D surfaces\n",
    "\n",
    "# tells matplotlib to embed plots within the notebook\n",
    "%matplotlib inline"
   ]
  },
  {
   "cell_type": "markdown",
   "metadata": {},
   "source": [
    "### Loading the Data and perform feature scaling"
   ]
  },
  {
   "cell_type": "markdown",
   "metadata": {},
   "source": [
    "First, we load the data and use feature normalization to ensure gradient descent converges much more quickly"
   ]
  },
  {
   "cell_type": "code",
   "execution_count": 2,
   "metadata": {},
   "outputs": [
    {
     "name": "stdout",
     "output_type": "stream",
     "text": [
      "  X[0]    X[1]    X[2]    X[3]    X[4]    X[5]    X[6]    X[7]    X[8]    X[9]    X[10]    quality (1-10)\n",
      "------  ------  ------  ------  ------  ------  ------  ------  ------  ------  -------  ----------------\n",
      "   7.4    0.7     0        1.9   0.076      11      34  0.9978    3.51    0.56      9.4                 5\n",
      "   7.8    0.88    0        2.6   0.098      25      67  0.9968    3.2     0.68      9.8                 5\n",
      "   7.8    0.76    0.04     2.3   0.092      15      54  0.997     3.26    0.65      9.8                 5\n",
      "  11.2    0.28    0.56     1.9   0.075      17      60  0.998     3.16    0.58      9.8                 6\n",
      "   7.4    0.7     0        1.9   0.076      11      34  0.9978    3.51    0.56      9.4                 5\n",
      "   7.4    0.66    0        1.8   0.075      13      40  0.9978    3.51    0.56      9.4                 5\n",
      "   7.9    0.6     0.06     1.6   0.069      15      59  0.9964    3.3     0.46      9.4                 5\n",
      "   7.3    0.65    0        1.2   0.065      15      21  0.9946    3.39    0.47     10                   7\n",
      "   7.8    0.58    0.02     2     0.073       9      18  0.9968    3.36    0.57      9.5                 7\n",
      "   7.5    0.5     0.36     6.1   0.071      17     102  0.9978    3.35    0.8      10.5                 5\n"
     ]
    }
   ],
   "source": [
    "# Load data\n",
    "data = np.loadtxt(open(\"data/wineQuality.csv\", \"rb\"), delimiter=\",\", skiprows=1)\n",
    "\n",
    "# Create feature matrix and output variables\n",
    "# Here, X denotes the feature matrix and y is the output\n",
    "X = data[:, :-1]\n",
    "y = data[:, -1]\n",
    "\n",
    "# print out some data points\n",
    "sample = data[:10, :]\n",
    "table = [column for column in sample]\n",
    "print(tabulate(table, headers=[\"X[0]\", \"X[1]\", \"X[2]\", \"X[3]\", \"X[4]\", \"X[5]\", \"X[6]\", \"X[7]\", \"X[8]\", \"X[9]\", \"X[10]\", \"quality (1-10)\" ]))\n"
   ]
  },
  {
   "cell_type": "code",
   "execution_count": 3,
   "metadata": {},
   "outputs": [],
   "source": [
    "# This function returns a normalized version of the feature matrix\n",
    "def featureNormalization(featureMatrix=X):\n",
    "    # create mu and sigma vector\n",
    "    # mu[x] denotes the mean value of column x\n",
    "    # sigma[x] denotes the standard deviation of column x\n",
    "    X_normalized = X.copy()\n",
    "    mu = np.zeros(X.shape[1])\n",
    "    sigma = np.zeros(X.shape[1])\n",
    "    \n",
    "    # set the values of mu and sigma\n",
    "    mu = np.mean(X, axis = 0)\n",
    "    sigma = np.std(X, axis = 0)\n",
    "    X_normalized = (X - mu) / sigma\n",
    "    \n",
    "    # return normalized feature matrix, mu and sigma vector\n",
    "    return X_normalized, mu, sigma"
   ]
  },
  {
   "cell_type": "code",
   "execution_count": 4,
   "metadata": {},
   "outputs": [
    {
     "name": "stdout",
     "output_type": "stream",
     "text": [
      "Computed mean vector:  [ 8.31963727  0.52782051  0.27097561  2.5388055   0.08746654 15.87492183\n",
      " 46.46779237  0.99674668  3.3111132   0.65814884 10.42298311]\n",
      "\n",
      "Computed sigma vector:  [1.74055180e+00 1.79003704e-01 1.94740214e-01 1.40948711e+00\n",
      " 4.70505826e-02 1.04568856e+01 3.28850367e+01 1.88674370e-03\n",
      " 1.54338181e-01 1.69453967e-01 1.06533430e+00]\n"
     ]
    }
   ],
   "source": [
    "# call featureNormalization on the data\n",
    "X_normalized, mu, sigma = featureNormalization(X)\n",
    "\n",
    "print(\"Computed mean vector: \", mu)\n",
    "print(\"\\nComputed sigma vector: \", sigma)"
   ]
  },
  {
   "cell_type": "markdown",
   "metadata": {},
   "source": [
    "Finally, before we use the feature matrix to compute the cost function, we must add the intercept term"
   ]
  },
  {
   "cell_type": "code",
   "execution_count": 5,
   "metadata": {},
   "outputs": [],
   "source": [
    "# Add intercept term to X\n",
    "m = y.size\n",
    "X = np.concatenate([np.ones((m, 1)), X_normalized], axis=1)\n"
   ]
  },
  {
   "cell_type": "markdown",
   "metadata": {},
   "source": [
    "### Cost Function"
   ]
  },
  {
   "cell_type": "markdown",
   "metadata": {},
   "source": [
    "Next, we must implement the cost function for our multivariate linear regression model. This function computes the average of all the results of our linear hypothesis with inputs from our feature matrix compared to the actual output of our dataset. "
   ]
  },
  {
   "cell_type": "code",
   "execution_count": 6,
   "metadata": {},
   "outputs": [],
   "source": [
    "# first, we must create our parameter vector theta initialized to all 0s\n",
    "theta = np.zeros(X[1].shape)\n"
   ]
  }
 ],
 "metadata": {
  "kernelspec": {
   "display_name": "Python 3",
   "language": "python",
   "name": "python3"
  },
  "language_info": {
   "codemirror_mode": {
    "name": "ipython",
    "version": 3
   },
   "file_extension": ".py",
   "mimetype": "text/x-python",
   "name": "python",
   "nbconvert_exporter": "python",
   "pygments_lexer": "ipython3",
   "version": "3.7.1"
  }
 },
 "nbformat": 4,
 "nbformat_minor": 2
}
